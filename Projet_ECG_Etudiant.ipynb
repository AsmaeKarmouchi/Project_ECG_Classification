{
 "cells": [
  {
   "cell_type": "markdown",
   "id": "43e596ea",
   "metadata": {
    "id": "43e596ea"
   },
   "source": [
    "# Projet CSAA - Classification du rythme cardiaque issu d'ECG\n",
    "\n",
    "\n",
    "Ce jeu de données est composé d'une collections de signaux de battements cardiaques provenant d'un jeu de données célèbres dans le domaine de la classification des battements cardiaques, le jeu de données sur l'arythmie du MIT-BIH.\n",
    "\n",
    "Les signaux correspondent à des formes d'électrocardiogramme (ECG) de battements cardiaques pour le cas normal et les cas affectés par différentes arythmies et infarctus du myocarde. Ces signaux sont prétraités et segmentés, chaque segment correspondant à un battement cardiaque.\n",
    "\n",
    "<img src=\"./DataECG.png\" width=\"800\" height=\"600\">\n",
    "\n",
    "On distingue 5 battements cardiaques différents : Battements normaux', 'Battements inconnus', 'Battements ectopiques ventriculaires', 'Battements ectopiques supraventriculaires' et 'Battements de fusion'.\n",
    "\n",
    "De ces signaux, on extrait des caractéristiques par la librairie TSFEL - *Time Series Features Extraction Library* (https://tsfel.readthedocs.io/en/latest/index.html)\n",
    "\n",
    "Les 156 caractéristiques extraites sont divisées selon les domaines :\n",
    "- temporel avec 31 caractéristiques comme l'entropie, Max, Min, Absolute Energy ...\n",
    "- statistique avec 14 caractéristiques comme écart moyen absolu, écart médian, variance, Kurtosis...\n",
    "- spectral  avec 111 caractéristiques comme les coefficients FFT par bande de fréquence, ondelettes...\n",
    "\n",
    "Lien vers le papier expliquant TSFEL : https://www.sciencedirect.com/science/article/pii/S2352711020300017"
   ]
  },
  {
   "cell_type": "code",
   "execution_count": 1,
   "id": "17ec2c7e",
   "metadata": {
    "id": "17ec2c7e"
   },
   "outputs": [],
   "source": [
    "# Librairies utiles\n",
    "import numpy as np\n",
    "import sklearn\n",
    "import pandas as pd\n",
    "import seaborn as sns\n",
    "import matplotlib.pyplot as plt"
   ]
  },
  {
   "cell_type": "markdown",
   "id": "9fe2730e",
   "metadata": {
    "id": "9fe2730e"
   },
   "source": [
    "# Chargement des données d'apprentissage et de test"
   ]
  },
  {
   "cell_type": "code",
   "execution_count": 2,
   "id": "6e64b5e9",
   "metadata": {
    "colab": {
     "base_uri": "https://localhost:8080/"
    },
    "id": "6e64b5e9",
    "outputId": "1875f9a1-7c7d-4926-e249-d64b8d61066b"
   },
   "outputs": [
    {
     "name": "stdout",
     "output_type": "stream",
     "text": [
      "Taille du dataset ECG: (5000, 188)\n",
      "Taille du dataset après extraction de features : (5000, 156) (5000,)\n",
      "Taille de la base d apprentissage ECG : (4000, 188) Taille du dataset de test ECG : (1000, 188)\n",
      "Taille de la base d apprentissage Features : (4000, 156) Taille du dataset de test Features : (1000, 156)\n"
     ]
    }
   ],
   "source": [
    "# Chargement des données brutes\n",
    "DataECGFull=np.load('./DataECG.npy')\n",
    "print('Taille du dataset ECG:', DataECGFull.shape)\n",
    "\n",
    "# Après extraction des features\n",
    "# Chargement des données d'apprentissage\n",
    "DataFeature=np.load('./DataFeature.npy')\n",
    "Label=np.load('./Label.npy')\n",
    "print('Taille du dataset après extraction de features :', DataFeature.shape, Label.shape)\n",
    "\n",
    "\n",
    "# Séparation en ensemble d'apprentissage et de test\n",
    "from sklearn.model_selection import train_test_split\n",
    "\n",
    "DataECGApp, DataECGTest, Label_train, Label_test = train_test_split(DataECGFull, Label, test_size=0.2, random_state=42)\n",
    "DataFeatureApp, DataFeatureTest, LabelF_train, LabelF_test = train_test_split(DataFeature, Label, test_size=0.2, random_state=42)\n",
    "\n",
    "print('Taille de la base d apprentissage ECG :', DataECGApp.shape, 'Taille du dataset de test ECG :', DataECGTest.shape)\n",
    "print('Taille de la base d apprentissage Features :', DataFeatureApp.shape, 'Taille du dataset de test Features :', DataFeatureTest.shape)\n"
   ]
  },
  {
   "cell_type": "code",
   "execution_count": 11,
   "id": "d1e36557",
   "metadata": {},
   "outputs": [],
   "source": [
    "label_name = [\"battement normaux\", \"battement inconnus\",\" bat ect. ventriculaire\", \"bat. ect. supra\", \"battement de fusion\"]"
   ]
  },
  {
   "cell_type": "markdown",
   "id": "UHZs4t-vuXbo",
   "metadata": {
    "id": "UHZs4t-vuXbo"
   },
   "source": [
    "## Vecteur médian des caractéristiques pour chaque classe"
   ]
  },
  {
   "cell_type": "code",
   "execution_count": 5,
   "id": "6nqU5YTvr-fW",
   "metadata": {
    "colab": {
     "base_uri": "https://localhost:8080/"
    },
    "id": "6nqU5YTvr-fW",
    "outputId": "07037567-0d04-4489-c2ff-caeb57b01e07"
   },
   "outputs": [
    {
     "name": "stdout",
     "output_type": "stream",
     "text": [
      "Classes uniques : [0. 1. 2. 3. 4.]\n"
     ]
    }
   ],
   "source": [
    "# Calculer le vecteur médian des caractéristiques pour chaque classe\n",
    "class_feature_medians = {}\n",
    "\n",
    "# Trouver les labels uniques avec numpy\n",
    "unique_labels = np.unique(LabelF_train)\n",
    "print(\"Classes uniques :\", unique_labels)\n",
    "\n",
    "for label in unique_labels:\n",
    "  Data_App_Temp= DataFeatureApp[:,:32]\n",
    "  # Filtrer les données pour la classe actuelle\n",
    "  class_features = Data_App_Temp[np.array(LabelF_train) == label]\n",
    "    # Calculer la médiane des caractéristiques pour cette classe\n",
    "  class_median = np.median(class_features, axis=0)  # Utilisation de np.median()\n",
    "  class_feature_medians[label] = class_median\n",
    "\n",
    "# Afficher les résultats\n",
    "#for label, median_vector in class_feature_medians.items():\n",
    "   # print(f\"Vecteur médian pour la classe {label} : {median_vector}\")"
   ]
  },
  {
   "cell_type": "markdown",
   "id": "48df15b1",
   "metadata": {
    "id": "48df15b1"
   },
   "source": [
    "# Chargement des variables issues *TSFEL*"
   ]
  },
  {
   "cell_type": "code",
   "execution_count": 6,
   "id": "97c9da7d",
   "metadata": {
    "colab": {
     "base_uri": "https://localhost:8080/"
    },
    "id": "97c9da7d",
    "outputId": "b2c0bdd8-7147-4513-fe1a-13838dcdbf61"
   },
   "outputs": [
    {
     "name": "stdout",
     "output_type": "stream",
     "text": [
      "Nombre de variables statistiques : (31,)\n",
      "Nombre de variables temporelles : (14,)\n",
      "Nombre de variables spectrales : (111,)\n"
     ]
    }
   ],
   "source": [
    "ListeVariablesStat=np.load('./ListeVariableStat.npy',allow_pickle=True)\n",
    "print('Nombre de variables statistiques :',ListeVariablesStat.shape)\n",
    "#print('Liste Variables Statistiques :', ListeVariablesStat)\n",
    "\n",
    "ListeVariablesTemps=np.load('./ListeVariableTemps.npy',allow_pickle=True)\n",
    "print('Nombre de variables temporelles :',ListeVariablesTemps.shape)\n",
    "#print('Liste Variables Temporelles :',ListeVariablesTemps)\n",
    "\n",
    "ListeVariablesSpectral=np.load('./ListeVariableSpectral.npy',allow_pickle=True)\n",
    "print('Nombre de variables spectrales :',ListeVariablesSpectral.shape)\n",
    "#print('Liste Variables Spectrales :',ListeVariablesSpectral)"
   ]
  },
  {
   "cell_type": "code",
   "execution_count": 7,
   "id": "NXEriRzqqVUz",
   "metadata": {
    "colab": {
     "base_uri": "https://localhost:8080/"
    },
    "id": "NXEriRzqqVUz",
    "outputId": "82251963-fad0-4ab4-c61a-74d5eaa5d44f"
   },
   "outputs": [
    {
     "data": {
      "text/plain": [
       "array(['0_Area under the curve', '0_Autocorrelation', '0_Centroid',\n",
       "       '0_Mean absolute diff', '0_Mean diff', '0_Median absolute diff',\n",
       "       '0_Median diff', '0_Negative turning points',\n",
       "       '0_Neighbourhood peaks', '0_Positive turning points',\n",
       "       '0_Signal distance', '0_Slope', '0_Sum absolute diff',\n",
       "       '0_Zero crossing rate'], dtype=object)"
      ]
     },
     "execution_count": 7,
     "metadata": {},
     "output_type": "execute_result"
    }
   ],
   "source": [
    "ListeVariablesTemps"
   ]
  },
  {
   "cell_type": "markdown",
   "id": "20026ed1",
   "metadata": {
    "id": "20026ed1"
   },
   "source": [
    "### Fonctions pour réaliser une table de correspondance entre le label des approches non supervisées et le label réel"
   ]
  },
  {
   "cell_type": "code",
   "execution_count": 8,
   "id": "17e21e75",
   "metadata": {
    "id": "17e21e75"
   },
   "outputs": [],
   "source": [
    "def retrieve_info(cluster_labels,y_train):\n",
    " #Associe l'étiquette la plus probable à chaque groupe dans le modèle KMeans.\n",
    " #Résultats : dictionnaire des clusters associés à chaque étiquette.\n",
    "\n",
    "# Initialisation\n",
    "  reference_labels = np.zeros((len(np.unique(cluster_labels)),1))\n",
    "# Loop pour chaque label\n",
    "  for i in range(len(np.unique(cluster_labels))):\n",
    "    index = np.where(cluster_labels == i,1,0)\n",
    "    num = np.bincount(y_train[index==1]).argmax()\n",
    "    reference_labels[i] = num\n",
    "  return reference_labels\n",
    "\n",
    "def correspondance(y_pred_kmeans,y_train):\n",
    "  # Correspondance entre la partition et les classes de la vérité terrain\n",
    "  reference_labels = retrieve_info(y_pred_kmeans,y_train)\n",
    "  number_labels = np.zeros(len(y_pred_kmeans))\n",
    "  for i in range(len(y_pred_kmeans)):\n",
    "    number_labels[i] = reference_labels[y_pred_kmeans[i]]\n",
    "  return number_labels\n"
   ]
  },
  {
   "cell_type": "markdown",
   "id": "6068afcd-9f01-417a-96b9-61d5dd5230e9",
   "metadata": {
    "id": "6068afcd-9f01-417a-96b9-61d5dd5230e9"
   },
   "source": [
    "# Partie I : Implémentation de l'algorithme de programmation dynamique (DTW)\n",
    "\n",
    "1. Ecrivez une fonction en python DTW qui implémente le calcul et l'affichage de la matrice des coûts définie en TD.\n",
    "\n"
   ]
  },
  {
   "cell_type": "markdown",
   "id": "yZv0sfMUjGxD",
   "metadata": {
    "id": "yZv0sfMUjGxD"
   },
   "source": [
    "information (alban) : On veut comparer les caracteristiques du jeu de test aux valeurs médianes (par exemple)   du jeu de test pour chaque classe ( car on sait a quel classe chaque battement appartient)\n",
    "\n",
    "On a un ensemble de caracteristique par battement et on veut les comparér via l'algo DTW, celui dont on est le plus proche alors on peut le classer comme étant un battement de ce type la ( il faut comparer a chaque classe )."
   ]
  },
  {
   "cell_type": "code",
   "execution_count": 9,
   "id": "d42e698d-b4a8-4347-9a05-bb2fdd063d49",
   "metadata": {
    "id": "d42e698d-b4a8-4347-9a05-bb2fdd063d49"
   },
   "outputs": [],
   "source": [
    "from math import *\n",
    "import sys"
   ]
  },
  {
   "cell_type": "code",
   "execution_count": 10,
   "id": "b11cdc41-09be-4f45-9d7e-15657484876a",
   "metadata": {
    "id": "b11cdc41-09be-4f45-9d7e-15657484876a"
   },
   "outputs": [],
   "source": [
    "\n",
    "def DTW(A, B, d):\n",
    "    \"\"\"\n",
    "    Algorithme DTW avec poids pour aligner deux séries temporelles.\n",
    "\n",
    "    Args:\n",
    "        A (list or np.ndarray): Première série temporelle.\n",
    "        B (list or np.ndarray): Deuxième série temporelle.\n",
    "        d (function): Fonction de distance locale entre deux points.\n",
    "\n",
    "    Returns:\n",
    "        float: Score d'alignement.\n",
    "        np.ndarray: Matrice des coûts cumulés.\n",
    "    \"\"\"\n",
    "    # Définir les poids des transitions\n",
    "    w0 = 1  # Poids pour l'insertion\n",
    "    w1 = 2  # Poids pour la correspondance\n",
    "    w2 = 1  # Poids pour la suppression\n",
    "\n",
    "    N, M = len(A), len(B)\n",
    "\n",
    "    # Initialisation de la matrice des coûts avec des valeurs infinies\n",
    "    g = np.full((N + 1, M + 1), float('inf'))\n",
    "    g[0, 0] = 0  # Point de départ\n",
    "\n",
    "    # Initialisation des premières lignes et colonnes\n",
    "    for j in range(1, M + 1):\n",
    "        g[0, j] = float('inf')\n",
    "    for i in range(1, N + 1):\n",
    "        g[i, 0] = float('inf')\n",
    "\n",
    "    # Remplissage de la matrice des coûts\n",
    "    for i in range(1, N + 1):\n",
    "        for j in range(1, M + 1):\n",
    "            cost = d(A[i - 1], B[j - 1])\n",
    "            g[i, j] = min(\n",
    "                g[i - 1, j] + w0 * cost,     # Transition (i-1, j)\n",
    "                g[i - 1, j - 1] + w1 * cost,  # Transition (i-1, j-1)\n",
    "                g[i, j - 1] + w2 * cost      # Transition (i, j-1)\n",
    "            )\n",
    "\n",
    "    # Score d'alignement\n",
    "    S = g[N, M] / (N + M)\n",
    "    return S, g\n"
   ]
  },
  {
   "cell_type": "code",
   "execution_count": null,
   "id": "vw0oi8T0u47Z",
   "metadata": {
    "colab": {
     "base_uri": "https://localhost:8080/",
     "height": 356
    },
    "id": "vw0oi8T0u47Z",
    "outputId": "69e44e6a-2360-4c91-9824-8ae873e39fef"
   },
   "outputs": [],
   "source": [
    "\n",
    "# Exemple de fonction de distance locale\n",
    "def distance(a, b):\n",
    "    return abs(a - b)\n",
    "\n",
    "# Fonction pour appliquer DTW sur l'ensemble du test\n",
    "def apply_dtw_on_test(DataFeatureTest, LabelF_test, DataFeatureApp, LabelF_train):\n",
    "    results = []\n",
    "\n",
    "    # Appliquer DTW pour chaque pair d'éléments (test, train)\n",
    "    for test_idx, test_series in enumerate(DataFeatureTest):  # On itère directement sur un ndarray\n",
    "        # Initialiser la meilleure correspondance\n",
    "        best_distance = float('inf')\n",
    "        best_path = []\n",
    "\n",
    "        # Comparer avec chaque série d'entraînement\n",
    "        for train_idx, train_series in enumerate(DataFeatureApp):  # Idem ici pour DataFeatureApp\n",
    "            # Appliquer DTW\n",
    "            distance_value, path = DTW(test_series, train_series, distance)\n",
    "\n",
    "            # Si la distance calculée est meilleure, on l'enregistre\n",
    "            if distance_value < best_distance:\n",
    "                best_distance = distance_value\n",
    "                best_path = path\n",
    "\n",
    "        # Ajouter le résultat de la correspondance pour cet exemple de test\n",
    "        results.append((best_distance, best_path))\n",
    "\n",
    "    return results\n",
    "\n",
    "# Appliquer DTW sur l'ensemble du jeu de test\n",
    "results = apply_dtw_on_test(DataFeatureTest, LabelF_test, DataFeatureApp, LabelF_train)\n",
    "\n",
    "# Affichage des résultats\n",
    "for idx, (dist, path) in enumerate(results):\n",
    "    print(f\"Test {idx}: Distance = {dist}, Path = {path}\")\n"
   ]
  },
  {
   "cell_type": "code",
   "execution_count": null,
   "id": "5efb2eb5-133a-47bb-9303-8255646fdd61",
   "metadata": {
    "id": "5efb2eb5-133a-47bb-9303-8255646fdd61",
    "outputId": "21393a75-3171-47d1-b63e-e91f0eab9daa"
   },
   "outputs": [],
   "source": []
  },
  {
   "cell_type": "markdown",
   "id": "f50ff141-2a19-4456-b038-6d7aa8bd77fc",
   "metadata": {
    "id": "f50ff141-2a19-4456-b038-6d7aa8bd77fc"
   },
   "source": [
    "## Système de reconnaissance de battements cardiaques par DTW\n",
    "\n",
    "\n",
    "\n",
    "**Système de reconnaissance :**\n",
    "Pour chaque profil temporel test :\n",
    "\n",
    "a) Calculer pour chaque classe, le score de la DTW entre le profil temporel test et les profils temporels de la classe\n",
    "\n",
    "b) Déterminer la classe d'appartenance par minimum du score sur toutes les classes\n"
   ]
  },
  {
   "cell_type": "code",
   "execution_count": null,
   "id": "2ee29828-93e9-4ef3-af05-fc828f9a1b7d",
   "metadata": {
    "id": "2ee29828-93e9-4ef3-af05-fc828f9a1b7d"
   },
   "outputs": [],
   "source": [
    "# Système de reconnaissance à partir de la DTW\n",
    "PartitionDTW=np.zeros((TAILLE_TEST*N_CLASSES,2))\n",
    "\n",
    "## à coder"
   ]
  },
  {
   "cell_type": "markdown",
   "id": "e92d4bb1-860d-42fb-bdfd-43b41a9d11e9",
   "metadata": {
    "id": "e92d4bb1-860d-42fb-bdfd-43b41a9d11e9"
   },
   "source": [
    "**Evaluation :** A partir de la partition de l'ensemble test obtenue après la DTW, calculer la matrice de confusion qui recense le nombre de données bien classés et mal classés."
   ]
  },
  {
   "cell_type": "code",
   "execution_count": null,
   "id": "caf7fc71-c884-446b-bdc9-4acdb8fbeeaa",
   "metadata": {
    "id": "caf7fc71-c884-446b-bdc9-4acdb8fbeeaa"
   },
   "outputs": [],
   "source": [
    "# Evaluation des résultats par matrices de confusion\n",
    "from sklearn.metrics import accuracy_score\n",
    "from sklearn.metrics import confusion_matrix\n"
   ]
  },
  {
   "cell_type": "code",
   "execution_count": null,
   "id": "c823e9cd-39ac-4c25-b395-22689bb9fd4f",
   "metadata": {
    "id": "c823e9cd-39ac-4c25-b395-22689bb9fd4f"
   },
   "outputs": [],
   "source": [
    "print('Matrice de confusion par DTW')\n",
    "cm=confusion_matrix(PartitionDTW[:,0],PartitionDTW[:,1])\n",
    "sns.heatmap(data=cm,fmt='.0f',xticklabels=np.unique(classe[:N_CLASSES]),yticklabels=np.unique(classe[:N_CLASSES]),annot=True)\n",
    "\n",
    "# score de performance\n",
    "print('Accuracy sur base de test :',accuracy_score(PartitionDTW[:,0],PartitionDTW[:,1]))"
   ]
  },
  {
   "cell_type": "markdown",
   "id": "c32be7d8",
   "metadata": {
    "id": "c32be7d8"
   },
   "source": [
    "# Partie II : Classification des battements cardiaques sur les features sans prétraitement\n",
    "\n",
    "Réaliser une classification des battements cardiaques par une méthode d'apprentissage supervisé et une méthode d'apprentissage non supervisé de votre choix en utilisant la librairie *scikit-learn*.\n",
    "\n",
    "Pour chaque résultat obtenu, calculer la matrice de confusion et interpréter les résultats.\n"
   ]
  },
  {
   "cell_type": "markdown",
   "id": "0221ee5b",
   "metadata": {
    "id": "0221ee5b"
   },
   "source": [
    "## Méthodes supervisées  :\n",
    "indiquer quelles sont les 2 méthodes supervisées de votre choix et calculer la matrice de confusion associée."
   ]
  },
  {
   "cell_type": "code",
   "execution_count": 3,
   "id": "7b3a38f8",
   "metadata": {},
   "outputs": [],
   "source": [
    "# arbre de decision\n",
    "# méthode de classification supervisé\n",
    "\n",
    "from sklearn.tree import DecisionTreeClassifier\n",
    "\n",
    "# Initialiser et entraîner le modèle\n",
    "dt_model = DecisionTreeClassifier(random_state=42)\n",
    "dt_model.fit(DataFeatureApp, LabelF_train)\n",
    "\n",
    "# Prédictions\n",
    "y_pred_dt = dt_model.predict(DataFeatureTest)"
   ]
  },
  {
   "cell_type": "code",
   "execution_count": 4,
   "id": "bcc6acab",
   "metadata": {},
   "outputs": [],
   "source": [
    "# k-Nearest Neighbors\n",
    "# méthode de classification supervisé\n",
    "\n",
    "from sklearn.neighbors import KNeighborsClassifier\n",
    "\n",
    "# Initialiser et entraîner le modèle\n",
    "knn_model = KNeighborsClassifier(n_neighbors=3)\n",
    "knn_model.fit(DataFeatureApp, LabelF_train)\n",
    "\n",
    "# Prédictions\n",
    "y_pred_knn = knn_model.predict(DataFeatureTest)"
   ]
  },
  {
   "cell_type": "code",
   "execution_count": 5,
   "id": "d297d578",
   "metadata": {},
   "outputs": [
    {
     "name": "stdout",
     "output_type": "stream",
     "text": [
      "Matrice de confusion pour l'Arbre de Décision :\n",
      " [[158  30  19   5   4]\n",
      " [ 30 153   5   1   1]\n",
      " [  9   4 169   6   4]\n",
      " [  2   2   2 204   0]\n",
      " [  4   5   4   5 174]]\n",
      "Matrice de confusion pour k-NN :\n",
      " [[137  41  21  14   3]\n",
      " [ 43 137   6   3   1]\n",
      " [ 28   2 132  12  18]\n",
      " [  4   1   2 203   0]\n",
      " [  7   4   1   9 171]]\n"
     ]
    }
   ],
   "source": [
    "# matrice de confusion des deux méthodes supervisé\n",
    "from sklearn.metrics import confusion_matrix\n",
    "\n",
    "# Matrice de confusion pour l'arbre de décision\n",
    "conf_matrix_dt = confusion_matrix(LabelF_test, y_pred_dt)\n",
    "print(\"Matrice de confusion pour l'Arbre de Décision :\\n\", conf_matrix_dt)\n",
    "\n",
    "# Matrice de confusion pour k-NN\n",
    "conf_matrix_knn = confusion_matrix(LabelF_test, y_pred_knn)\n",
    "print(\"Matrice de confusion pour k-NN :\\n\", conf_matrix_knn)\n"
   ]
  },
  {
   "cell_type": "code",
   "execution_count": 12,
   "id": "0eb8fd7f",
   "metadata": {},
   "outputs": [
    {
     "data": {
      "image/png": "[encoded data removed]",
      "text/plain": [
       "<Figure size 800x600 with 2 Axes>"
      ]
     },
     "metadata": {},
     "output_type": "display_data"
    },
    {
     "data": {
      "image/png": "[encoded data removed]",
      "text/plain": [
       "<Figure size 800x600 with 2 Axes>"
      ]
     },
     "metadata": {},
     "output_type": "display_data"
    }
   ],
   "source": [
    "# Fonction pour visualiser la matrice de confusion\n",
    "def plot_confusion_matrix(cm, class_names, title=\"Matrice de Confusion\"):\n",
    "    plt.figure(figsize=(8, 6))\n",
    "    sns.heatmap(cm, annot=True, fmt='d', cmap='Blues', xticklabels=class_names, yticklabels=class_names)\n",
    "    plt.title(title)\n",
    "    plt.ylabel('Classe Réelle')\n",
    "    plt.xlabel('Classe Prédite')\n",
    "    plt.show()\n",
    "\n",
    "# Classes réelles \n",
    "class_names = [\"battement normaux\", \"battement inconnus\",\" bat ect. ventriculaire\", \"bat. ect. supra\", \"battement de fusion\"]\n",
    "\n",
    "# Visualisation des matrices de confusion\n",
    "plot_confusion_matrix(conf_matrix_dt, class_names, \"Matrice de Confusion - Arbre de Décision\")\n",
    "plot_confusion_matrix(conf_matrix_knn, class_names, \"Matrice de Confusion - K-NN\")\n"
   ]
  },
  {
   "cell_type": "code",
   "execution_count": null,
   "id": "75e2702b",
   "metadata": {},
   "outputs": [],
   "source": [
    "TESTER AVEC DIFFÉRENT PARAMETRE DES METHODES, TESTER SANS EXTRACTION DES CARACTÉRISTIQUES"
   ]
  },
  {
   "cell_type": "markdown",
   "id": "b2164fad",
   "metadata": {
    "id": "b2164fad"
   },
   "source": [
    "## Méthodes non supervisées\n",
    "\n",
    "Indiquer quelles sont les 2 méthodes non supervisées de votre choix et calculer la matrice de confusion associée."
   ]
  },
  {
   "cell_type": "code",
   "execution_count": null,
   "id": "fd913740",
   "metadata": {
    "id": "fd913740"
   },
   "outputs": [],
   "source": []
  },
  {
   "cell_type": "code",
   "execution_count": null,
   "id": "335f1e5a",
   "metadata": {
    "id": "335f1e5a"
   },
   "outputs": [],
   "source": []
  },
  {
   "cell_type": "markdown",
   "id": "ce258562",
   "metadata": {
    "id": "ce258562"
   },
   "source": [
    "# Partie III : classification des battements cardiaques sur les features avec prétraitement par ACP\n",
    "\n",
    "## Méthode supervisée avec réduction de dimension par ACP sur l'ensemble d'apprentissage\n",
    "Réaliser une ACP sur l'ensemble d'apprentissage pour réduire la dimension, visualiser les données\n",
    "puis projeter les données de l'ensemble de test dans la base de l'ACP.\n",
    "\n",
    "Indiquer quelles sont les 2 méthodes supervisées de votre choix et calculer la matrice de confusion associée (confusion_matrix) et le score de performance (accuracy_score)"
   ]
  },
  {
   "cell_type": "code",
   "execution_count": null,
   "id": "e4a67a8d",
   "metadata": {
    "id": "e4a67a8d"
   },
   "outputs": [],
   "source": [
    "from sklearn.decomposition import PCA"
   ]
  },
  {
   "cell_type": "code",
   "execution_count": null,
   "id": "dd0f9780",
   "metadata": {
    "id": "dd0f9780"
   },
   "outputs": [],
   "source": []
  },
  {
   "cell_type": "code",
   "execution_count": null,
   "id": "9782179d",
   "metadata": {
    "id": "9782179d"
   },
   "outputs": [],
   "source": [
    "# Calcul de la matrice de confusion\n"
   ]
  },
  {
   "cell_type": "markdown",
   "id": "f6281618",
   "metadata": {
    "id": "f6281618"
   },
   "source": [
    "## Méthode non supervisée avec réduction de dimension par ACP sur l'ensemble des données\n",
    "\n",
    "Réaliser une ACP sur l'ensemble des données et indiquer quelles sont les méthodes non supervisées de votre choix et calculer la matrice de confusion associée (confusion_matrix) et le score de performance (accuracy_score)"
   ]
  },
  {
   "cell_type": "code",
   "execution_count": null,
   "id": "41f9e75d",
   "metadata": {
    "id": "41f9e75d"
   },
   "outputs": [],
   "source": []
  },
  {
   "cell_type": "code",
   "execution_count": null,
   "id": "cef4ea07",
   "metadata": {
    "id": "cef4ea07"
   },
   "outputs": [],
   "source": [
    "# Calcul de la matrice de confusion\n"
   ]
  },
  {
   "cell_type": "code",
   "execution_count": null,
   "id": "c608da4c",
   "metadata": {
    "id": "c608da4c"
   },
   "outputs": [],
   "source": []
  },
  {
   "cell_type": "markdown",
   "id": "8013df17",
   "metadata": {
    "id": "8013df17"
   },
   "source": [
    "\n",
    "# Réaliser votre étude :\n",
    "\n",
    "- Etudier les meilleurs paramètres pour les méthodes supervisées et non supervisées que vous avez choisies.\n",
    "- Faire une étude sur les paramètres issus de TSFEL en séparant par exemple les différentes modalités (statistiques,temporelles et spectrales) ou en étudiant leur correlation et essayer de réaliser des prétraitements.\n",
    "- Optimiser la réduction de dimensions par ACP\n"
   ]
  },
  {
   "cell_type": "code",
   "execution_count": null,
   "id": "d5bd2f8d",
   "metadata": {
    "id": "d5bd2f8d"
   },
   "outputs": [],
   "source": []
  }
 ],
 "metadata": {
  "colab": {
   "provenance": []
  },
  "kernelspec": {
   "display_name": "Python 3 (ipykernel)",
   "language": "python",
   "name": "python3"
  },
  "language_info": {
   "codemirror_mode": {
    "name": "ipython",
    "version": 3
   },
   "file_extension": ".py",
   "mimetype": "text/x-python",
   "name": "python",
   "nbconvert_exporter": "python",
   "pygments_lexer": "ipython3",
   "version": "3.12.3"
  }
 },
 "nbformat": 4,
 "nbformat_minor": 5
}
